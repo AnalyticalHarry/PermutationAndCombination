{
  "nbformat": 4,
  "nbformat_minor": 0,
  "metadata": {
    "colab": {
      "provenance": []
    },
    "kernelspec": {
      "name": "python3",
      "display_name": "Python 3"
    },
    "language_info": {
      "name": "python"
    }
  },
  "cells": [
    {
      "cell_type": "markdown",
      "source": [
        "# Probability : Binomial & Multinomial"
      ],
      "metadata": {
        "id": "BYOEyM384ilO"
      }
    },
    {
      "cell_type": "code",
      "source": [
        "import math\n",
        "from math import comb\n",
        "from math import perm"
      ],
      "metadata": {
        "id": "itosufpjoZuC"
      },
      "execution_count": 1,
      "outputs": []
    },
    {
      "cell_type": "markdown",
      "source": [
        "## **When throwing a dice twice, what is the probability of getting exactly two 5's?**"
      ],
      "metadata": {
        "id": "Kr6COkibHFvd"
      }
    },
    {
      "cell_type": "markdown",
      "source": [
        "### Factorial Function\n",
        "\n",
        "The factorial of a non-negative integer $ n $ is denoted by $ n! $ and is defined as:\n",
        "\n",
        "$\n",
        "n! = n \\times (n-1) \\times (n-2) \\times \\cdots \\times 1\n",
        "$\n",
        "\n",
        "with the special case $ 0! = 1 $.\n"
      ],
      "metadata": {
        "id": "5yOZAlCUo-9d"
      }
    },
    {
      "cell_type": "code",
      "source": [
        "def factorial(n):\n",
        "    if n == 0:\n",
        "        return 1\n",
        "    count = 1\n",
        "    for i in range(1, n + 1):\n",
        "        count *= i\n",
        "    return count"
      ],
      "metadata": {
        "id": "l5x81IyapOs1"
      },
      "execution_count": 2,
      "outputs": []
    },
    {
      "cell_type": "markdown",
      "source": [
        "### Binomial Coefficient Formula\n",
        "\n",
        "The binomial coefficient $ \\binom{n}{k} $ represents the number of ways to choose $ k $ elements from a set of $ n $ elements. It is calculated using the factorial function as follows:\n",
        "\n",
        "$\n",
        "\\binom{n}{k} = \\frac{n!}{k!(n-k)!}\n",
        "$\n",
        "\n",
        "\n",
        "- $ n! $ (n factorial) is the product of all positive integers up to $ n $.\n",
        "- $ k! $ (k factorial) is the product of all positive integers up to $ k $.\n",
        "- $ (n-k)! $ ((n-k) factorial) is the product of all positive integers up to $ n-k $.\n"
      ],
      "metadata": {
        "id": "_5Vh-kuwp-Bo"
      }
    },
    {
      "cell_type": "code",
      "source": [
        "def binomial_coefficient(n, k):\n",
        "    # C(n, k) = n! / (k! * (n - k)!)\n",
        "    return factorial(n) // (factorial(k) * factorial(n - k))"
      ],
      "metadata": {
        "id": "2ckHbF51pgKV"
      },
      "execution_count": 3,
      "outputs": []
    },
    {
      "cell_type": "markdown",
      "source": [
        "### Binomial Probability\n",
        "\n",
        "The binomial probability formula calculates the probability of exactly $ k $ successes (or specific outcomes) in $ n $ independent trials, each with a success probability $ p $.\n",
        "\n",
        "$\n",
        "P(X = k) = \\binom{n}{k} p^k (1 - p)^{n - k}\n",
        "$\n",
        "\n",
        "\n",
        "- $ \\binom{n}{k} $ is the binomial coefficient, representing the number of ways to choose $ k $ successes from $ n $ trials.\n",
        "- $ p $ is the probability of success on each trial.\n",
        "- $ 1 - p $ is the probability of failure on each trial.\n",
        "- $ k $ is the number of specific outcomes (successes).\n",
        "- $ n $ is the total number of trials (independent events).\n"
      ],
      "metadata": {
        "id": "mitNHHV2quYW"
      }
    },
    {
      "cell_type": "code",
      "source": [
        "def probability_exact_k_outcomes(n, k, p):\n",
        "    # binomial coefficient\n",
        "    coeff = binomial_coefficient(n, k)\n",
        "    # probability\n",
        "    probability = coeff * (p ** k) * ((1 - p) ** (n - k))\n",
        "    return probability"
      ],
      "metadata": {
        "id": "nMvYOlF6mtuL"
      },
      "execution_count": 4,
      "outputs": []
    },
    {
      "cell_type": "markdown",
      "source": [
        "Given:\n",
        "- $ n = 2 $ (number of rolls)\n",
        "- $ k = 2 $ (number of specific outcomes, i.e., rolling exactly two 5's)\n",
        "- $ p = \\frac{1}{6} $ (probability of rolling a 5 on a single roll)\n",
        "\n",
        "The binomial distribution formula is:\n",
        "\n",
        "$$\n",
        "P(X = k) = \\binom{n}{k} p^k (1 - p)^{n - k}\n",
        "$$\n",
        "\n",
        "\n",
        "1. **Binomial Coefficient $ \\binom{n}{k} $:**\n",
        "\n",
        "   $$\n",
        "   \\binom{n}{k} = \\frac{n!}{k!(n - k)!}\n",
        "   $$\n",
        "\n",
        "   For $ n = 2 $ and $ k = 2 $:\n",
        "\n",
        "   $$\n",
        "   \\binom{2}{2} = \\frac{2!}{2! \\cdot (2 - 2)!} = \\frac{2 \\cdot 1}{2 \\cdot 1 \\cdot 1} = 1\n",
        "   $$\n",
        "\n",
        "2. **Calculating $ p^k $:**\n",
        "\n",
        "   $$\n",
        "   p^k = \\left(\\frac{1}{6}\\right)^2 = \\frac{1}{36}\n",
        "   $$\n",
        "\n",
        "3. **Calculating $ (1 - p)^{n - k} $:**\n",
        "\n",
        "   $$\n",
        "   (1 - p)^{n - k} = \\left(1 - \\frac{1}{6}\\right)^{2 - 2} = \\left(\\frac{5}{6}\\right)^0 = 1\n",
        "   $$\n",
        "\n",
        "4. **Combine the results to find $ P(X = k) $:**\n",
        "\n",
        "   $$\n",
        "   P(X = 2) = \\binom{2}{2} \\cdot \\left(\\frac{1}{6}\\right)^2 \\cdot 1 = 1 \\cdot \\frac{1}{36} \\cdot 1 = \\frac{1}{36}\n",
        "   $$\n",
        "\n",
        "\n",
        "The probability $ P(X = 2) $ represents the likelihood of rolling exactly two 5's in two rolls of a die, which is $ \\frac{1}{36} $.\n"
      ],
      "metadata": {
        "id": "OLS-4X4DuJx1"
      }
    },
    {
      "cell_type": "code",
      "source": [
        "# number of rolls\n",
        "n = 2\n",
        "# number of specific outcomes (rolling a 5)\n",
        "k = 2\n",
        "# probability of rolling a specific number on a single roll\n",
        "p = 1/6\n",
        "\n",
        "prob = probability_exact_k_outcomes(n, k, p)\n",
        "print(f\"The probability of rolling exactly {k} 5's in {n} rolls is {prob:.5f}\")"
      ],
      "metadata": {
        "colab": {
          "base_uri": "https://localhost:8080/"
        },
        "id": "no9YYlYjoWaC",
        "outputId": "b5797679-5484-4aa9-9304-82f543bea588"
      },
      "execution_count": 5,
      "outputs": [
        {
          "output_type": "stream",
          "name": "stdout",
          "text": [
            "The probability of rolling exactly 2 5's in 2 rolls is 0.02778\n"
          ]
        }
      ]
    },
    {
      "cell_type": "markdown",
      "source": [
        "#### **Probability of getting exactly five 5's when throwing a dice five times**"
      ],
      "metadata": {
        "id": "q_4Lhrl-u0V_"
      }
    },
    {
      "cell_type": "code",
      "source": [
        "# numbe of dice rolls\n",
        "n = 5\n",
        "# number of specific outcomes (rolling a 5)\n",
        "k = 5\n",
        "# probability of rolling a specific number on a single roll\n",
        "p = 1/6\n",
        "\n",
        "prob = probability_exact_k_outcomes(n, k, p)\n",
        "print(f\"The probability of rolling exactly {k} 5's in {n} rolls is {prob:.5f}\")"
      ],
      "metadata": {
        "colab": {
          "base_uri": "https://localhost:8080/"
        },
        "id": "vGgDjTklsNhG",
        "outputId": "3d553b3b-5706-439f-ba3b-b94019518462"
      },
      "execution_count": 6,
      "outputs": [
        {
          "output_type": "stream",
          "name": "stdout",
          "text": [
            "The probability of rolling exactly 5 5's in 5 rolls is 0.00013\n"
          ]
        }
      ]
    },
    {
      "cell_type": "markdown",
      "source": [
        "#### **Determine the probability of getting exactly two 5's when throwing a dice five times ?**"
      ],
      "metadata": {
        "id": "oSniPiYs5xaa"
      }
    },
    {
      "cell_type": "markdown",
      "source": [
        "\n",
        "$$ P(X = k) = \\binom{n}{k} \\cdot p^k \\cdot (1 - p)^{n - k} $$\n",
        "\n",
        "- $ P(X = k) $ is the probability of $ k $ successes (in this case, getting exactly two 5's).\n",
        "- $ \\binom{n}{k} $ is the binomial coefficient, representing the number of ways to choose $ k $ successes from $ n $ trials.\n",
        "- $ p $ is the probability of success on a single trial (rolling a 5).\n",
        "- $ 1 - p $ is the probability of failure on a single trial (not rolling a 5).\n",
        "\n",
        "\n",
        "#### Total number of outcomes\n",
        "\n",
        "When throwing a dice five times, each throw has 6 possible outcomes, so the total number of outcomes is:\n",
        "$$ 6^5 = 7776 $$\n",
        "\n",
        "#### Number of favorable outcomes\n",
        "\n",
        "We want exactly two 5's. This occurs in $ \\binom{5}{2} $ ways (choosing 2 positions out of 5 for the 5's) multiplied by $ \\left(\\frac{1}{6}\\right)^2 $ (since each chosen position rolls a 5) and $ \\left(\\frac{5}{6}\\right)^3 $ (since the other three positions can be any of the remaining 5 numbers).\n",
        "\n",
        "Calculate $ \\binom{5}{2} $:\n",
        "$$ \\binom{5}{2} = \\frac{5 \\cdot 4}{2 \\cdot 1} = 10 $$\n",
        "\n",
        "Calculate $ \\left(\\frac{1}{6}\\right)^2 $:\n",
        "$$ \\left(\\frac{1}{6}\\right)^2 = \\frac{1}{36} $$\n",
        "\n",
        "Calculate $ \\left(\\frac{5}{6}\\right)^3 $:\n",
        "$$ \\left(\\frac{5}{6}\\right)^3 = \\frac{125}{216} $$\n",
        "\n",
        "#### Probability calculation\n",
        "\n",
        "$$ P(\\text{exactly two 5's}) = \\binom{5}{2} \\cdot \\left(\\frac{1}{6}\\right)^2 \\cdot \\left(\\frac{5}{6}\\right)^3 $$\n",
        "\n",
        "$$ P(\\text{exactly two 5's}) = 10 \\cdot \\frac{1}{36} \\cdot \\frac{125}{216} $$\n",
        "\n",
        "$$ P(\\text{exactly two 5's}) = \\frac{10 \\cdot 125}{36 \\cdot 216} $$\n",
        "\n",
        "$$ P(\\text{exactly two 5's}) = \\frac{1250}{7776} $$\n",
        "\n",
        "Therefore, the probability of getting exactly two 5's when throwing a dice five times is $ \\frac{1250}{7776} $. This fraction is the exact probability and cannot be simplified further, as 1250 and 7776 have no common factors other than 1.\n"
      ],
      "metadata": {
        "id": "pT26uNnL5jx8"
      }
    },
    {
      "cell_type": "code",
      "source": [
        "def binomial_probability(n, k, p):\n",
        "    # binomial coefficient: C(n, k)\n",
        "    binomial_coefficient = math.comb(n, k)\n",
        "    # p^k * (1-p)^(n-k)\n",
        "    probability_of_success = p ** k\n",
        "    probability_of_failure = (1 - p) ** (n - k)\n",
        "    # P(X = k)\n",
        "    probability = binomial_coefficient * probability_of_success * probability_of_failure\n",
        "    return probability"
      ],
      "metadata": {
        "id": "WE_9-10Fwcet"
      },
      "execution_count": 7,
      "outputs": []
    },
    {
      "cell_type": "code",
      "source": [
        "n = 5    # number of trials (throws of the dice)\n",
        "k = 2    # number of successes (exactly two 5's)\n",
        "p = 1/6  # probability of rolling a 5 on a single trial\n",
        "\n",
        "probability = binomial_probability(n, k, p)\n",
        "print(f\"The probability of exactly {k} occurrences of rolling a 5 in {n} throws is: {probability}\")"
      ],
      "metadata": {
        "colab": {
          "base_uri": "https://localhost:8080/"
        },
        "id": "jlhYPoGc4rHA",
        "outputId": "70744b1c-8b19-4a97-9d15-dec81a03051e"
      },
      "execution_count": 8,
      "outputs": [
        {
          "output_type": "stream",
          "name": "stdout",
          "text": [
            "The probability of exactly 2 occurrences of rolling a 5 in 5 throws is: 0.1607510288065844\n"
          ]
        }
      ]
    },
    {
      "cell_type": "markdown",
      "source": [
        "### Multinomial probability for rolling a dice 10 times where 3 appears exactly 2 times, 4 appears exactly 2 times, and 6 appears exactly 6 times.\n",
        "\n",
        "### Multinomial Probability\n",
        "\n",
        "The multinomial probability formula is:\n",
        "\n",
        "$$ P(X_1 = x_1, X_2 = x_2, X_3 = x_3) = \\frac{n!}{x_1! \\times x_2! \\times x_3!} \\times p_1^{x_1} \\times p_2^{x_2} \\times p_3^{x_3} $$\n",
        "\n",
        "- $ n $ is the total number of trials (rolls of the dice),\n",
        "- $ x_1, x_2, x_3 $ are the specific counts of each outcome (3, 4, and 6 in this case),\n",
        "- $ p_1, p_2, p_3 $ are the probabilities of each outcome (each $ \\frac{1}{6} $ for a fair dice),\n",
        "- $ n! $ is the factorial of $ n $,\n",
        "- $ x_1!, x_2!, x_3! $ are the factorials of $ x_1, x_2, x_3 $.\n",
        "\n",
        "\n",
        "**Factorials :**\n",
        "\n",
        "Calculate the factorials involved:\n",
        "- $ 10! = 10 \\times 9 \\times 8 \\times \\ldots \\times 1 = 3628800 $\n",
        "- $ 2! = 2 \\times 1 = 2 $\n",
        "- $ 6! = 6 \\times 5 \\times 4 \\times 3 \\times 2 \\times 1 = 720 $\n",
        "\n",
        "**Probability :**\n",
        "\n",
        "Substitute these values into the multinomial probability formula:\n",
        "\n",
        "$$ P(X_1 = 2, X_2 = 2, X_3 = 6) = \\frac{10!}{2! \\times 2! \\times 6!} \\times \\left( \\frac{1}{6} \\right)^2 \\times \\left( \\frac{1}{6} \\right)^2 \\times \\left( \\frac{1}{6} \\right)^6 $$\n",
        "\n",
        "\n",
        "1. **Factorials:**\n",
        "   - $ 10! = 3628800 $\n",
        "   - $ 2! = 2 $\n",
        "   - $ 6! = 720 $\n",
        "\n",
        "2. **Multinomial Coefficient:**\n",
        "   $$ \\frac{10!}{2! \\times 2! \\times 6!} = \\frac{3628800}{2 \\times 2 \\times 720} = 1260 $$\n",
        "\n",
        "3. **Probability:**\n",
        "   $$ P(X_1 = 2, X_2 = 2, X_3 = 6) = 1260 \\times \\left( \\frac{1}{6} \\right)^2 \\times \\left( \\frac{1}{6} \\right)^2 \\times \\left( \\frac{1}{6} \\right)^6 $$\n",
        "\n",
        "   Therefore, the probability of rolling a dice 10 times where 3 appears exactly 2 times, 4 appears exactly 2 times, and 6 appears exactly 6 times is $ \\frac{1260}{603979776} $.\n",
        "\n",
        "   This fraction represents the exact probability and cannot be simplified further, as 1260 and 603979776 have no common factors other than 1.\n"
      ],
      "metadata": {
        "id": "H-juaHeT-YI4"
      }
    },
    {
      "cell_type": "code",
      "source": [
        "def multinomial_probability(n, outcomes):\n",
        "    x1 = outcomes.get(3, 0)  # Number of threes\n",
        "    x2 = outcomes.get(4, 0)  # Number of fours\n",
        "    x3 = outcomes.get(6, 0)  # Number of sixes\n",
        "\n",
        "    # total numbers of throws\n",
        "    total_throws = sum(outcomes.values())\n",
        "\n",
        "    # probabilities of each outcome on a single trial\n",
        "    # since the dice has 6 faces and each face is equally likely\n",
        "    p = 1/6\n",
        "\n",
        "    # multinomial coefficient: n! / (x1! * x2! * x3!)\n",
        "    multinomial_coefficient = math.factorial(total_throws) / (math.factorial(x1) * math.factorial(x2) * math.factorial(x3))\n",
        "\n",
        "    # probability: multinomial_coefficient * p1^x1 * p2^x2 * p3^x3\n",
        "    probability = multinomial_coefficient * (p ** x1) * (p ** x2) * (p ** x3)\n",
        "\n",
        "    return probability"
      ],
      "metadata": {
        "id": "r2TdJuMl-5ks"
      },
      "execution_count": 9,
      "outputs": []
    },
    {
      "cell_type": "code",
      "source": [
        "# throwing a dice 10 times, getting exactly 3 twos, 4 threes, and 3 sixes\n",
        "n = 10\n",
        "outcomes = {3: 2, 4: 2, 6: 6}"
      ],
      "metadata": {
        "id": "OLasbaZk-9_F"
      },
      "execution_count": 10,
      "outputs": []
    },
    {
      "cell_type": "code",
      "source": [
        "# probability\n",
        "probability = multinomial_probability(n, outcomes)\n",
        "print(f\"The probability of rolling a dice {n} times where 3 comes 2 times, 4 comes 2 times, and 6 comes 6 times is: {probability:.10f}\")"
      ],
      "metadata": {
        "colab": {
          "base_uri": "https://localhost:8080/"
        },
        "id": "LIUIou2Z5CZp",
        "outputId": "060692b0-8b57-4ed1-9370-9ed4709d142e"
      },
      "execution_count": 11,
      "outputs": [
        {
          "output_type": "stream",
          "name": "stdout",
          "text": [
            "The probability of rolling a dice 10 times where 3 comes 2 times, 4 comes 2 times, and 6 comes 6 times is: 0.0000208381\n"
          ]
        }
      ]
    }
  ]
}